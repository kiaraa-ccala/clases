{
 "cells": [
  {
   "cell_type": "code",
   "execution_count": 2,
   "metadata": {},
   "outputs": [
    {
     "name": "stdout",
     "output_type": "stream",
     "text": [
      "<class 'numpy.float32'>\n",
      "<class 'numpy.float32'>\n"
     ]
    }
   ],
   "source": [
    "import ctypes\n",
    "import numpy as np\n",
    "\n",
    "a = np.random.rand(10).astype(np.float32)\n",
    "b = np.zeros_like(a)\n",
    "print(type(a[0]))\n",
    "print(type(b[0]))\n",
    "// tienes que saber que tipo de dato es el que te pide, sino cometes error en el casteo"
   ]
  },
  {
   "cell_type": "code",
   "execution_count": 6,
   "metadata": {},
   "outputs": [
    {
     "name": "stdout",
     "output_type": "stream",
     "text": [
      "Writing lib_array.c\n"
     ]
    }
   ],
   "source": [
    "%%file lib_array.c\n",
    "void copy_paste(float *a, float *b, int N) //mencionamos que es un puntero en lib.copy\n",
    "{\n",
    "    for(int i=0; i<N; i++){\n",
    "        b[i] = a[i];\n",
    "    }\n",
    "}"
   ]
  },
  {
   "cell_type": "code",
   "execution_count": 7,
   "metadata": {},
   "outputs": [],
   "source": [
    "! gcc -fPIC -shared lib_array.c -o lib_array.so"
   ]
  },
  {
   "cell_type": "code",
   "execution_count": 8,
   "metadata": {},
   "outputs": [],
   "source": [
    "lib = ctypes.CDLL('./lib_array.so')\n",
    "lib.copy_paste.argtypes = [np.ctypeslib.ndpointer(dtype=np.float32), np.ctypeslib.ndpointer(dtype=np.float32), ctypes.c_int]\n",
    "//hace referencia al primer argumento de entrada que es un puntero\n",
    "// tercer argumento no es un puntero, es un escalar, por eso le ponemos ctypes.c_int\n",
    "\n",
    "print(b)\n",
    "lib.copy_paste(a,b,10)\n",
    "print(b)\n",
    "\n",
    "//en el cast mencionas que clase de elementos estas utilizando, solo funcionara correctamente si los ejecutas haciendo referencia a estos."
   ]
  },
  {
   "cell_type": "markdown",
   "metadata": {},
   "source": [
    "Exploraremos qué pasaria si tenemos una matriz y la queremos multiplicar por un vector."
   ]
  }
 ],
 "metadata": {
  "kernelspec": {
   "display_name": "Python 3",
   "language": "python",
   "name": "python3"
  },
  "language_info": {
   "codemirror_mode": {
    "name": "ipython",
    "version": 3
   },
   "file_extension": ".py",
   "mimetype": "text/x-python",
   "name": "python",
   "nbconvert_exporter": "python",
   "pygments_lexer": "ipython3",
   "version": "3.10.12"
  }
 },
 "nbformat": 4,
 "nbformat_minor": 2
}
