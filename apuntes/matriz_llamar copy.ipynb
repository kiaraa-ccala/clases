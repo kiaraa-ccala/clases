{
 "cells": [
  {
   "cell_type": "code",
   "execution_count": 10,
   "metadata": {},
   "outputs": [],
   "source": [
    "def matriz_vector(A,x,b,N):\n",
    "    for i in range(N):\n",
    "        temp = 0.0\n",
    "        for j in range(N):\n",
    "            temp = temp + A[i*N+j]*x[j]\n",
    "        b[i] = temp\n",
    "\n",
    "## A[0] = 10, acumulas en la varible temp, entonces temp va a tener la acumulacion de la suma de los productos\n",
    "## Eso donde se guarda? (producto-suma, ese numero donde va?)\n",
    "## se guarda en el producto del nuevo arreglo (en b), en la posicion i, supuestamente ya recorriste todo j"
   ]
  },
  {
   "cell_type": "code",
   "execution_count": 15,
   "metadata": {},
   "outputs": [
    {
     "name": "stdout",
     "output_type": "stream",
     "text": [
      "Overwriting lib_matriz_vector.c\n"
     ]
    }
   ],
   "source": [
    "%%file lib_matriz_vector.c\n",
    "// emulare la forma de multiplicacion que hice en python\n",
    "void matriz_vector(double *A, double *x, double *b, int N){\n",
    "    double temp;\n",
    "    for(int i = 0; i<N ; i++){\n",
    "        temp = 0.0;\n",
    "        for (int j = 0; j<N; j++){\n",
    "            temp = temp + A[i*N+j]*x[j];\n",
    "        }\n",
    "        b[i] = temp;\n",
    "    }\n",
    "}"
   ]
  },
  {
   "cell_type": "code",
   "execution_count": 16,
   "metadata": {},
   "outputs": [],
   "source": [
    "! gcc -fPIC -shared lib_matriz_vector.c -o lib_matriz_vector.so "
   ]
  },
  {
   "cell_type": "code",
   "execution_count": 18,
   "metadata": {},
   "outputs": [
    {
     "name": "stdout",
     "output_type": "stream",
     "text": [
      "[0.4045555  0.44986955]\n",
      "[0.4045555  0.44986955]\n",
      "[0.4045555  0.44986955]\n"
     ]
    }
   ],
   "source": [
    "import ctypes\n",
    "import numpy as np\n",
    "import time\n",
    "import matplotlib.pyplot\n",
    "\n",
    "lib = ctypes.CDLL('./lib_matriz_vector.so')\n",
    "lib.matriz_vector.argtypes = [np.ctypeslib.ndpointer(dtype=np.double), np.ctypeslib.ndpointer(dtype=np.double), np.ctypeslib.ndpointer(dtype=np.double), ctypes.c_int]\n",
    "lista\n",
    "\n",
    "iter = 50\n",
    "lista_np = []\n",
    "lista_py = []\n",
    "lista_c = []\n",
    "\n",
    "\n",
    "for in range(iter):\n",
    "    A = np.random.rand(N*N)\n",
    "    M = np.reshape(A, [N,N])\n",
    "\n",
    "    x = np.random.rand(N)\n",
    "    b_py = np.zeros_like(x)\n",
    "    b_c = np.zeros_like(x)\n",
    "\n",
    "    tic = time.perf_counter()\n",
    "    M.dot(x)\n",
    "    toc = time.perf_counter()\n",
    "    lista_np.append(toc-tic)\n",
    "\n",
    "    tic = time.perf_counter()\n",
    "    matriz_vector(A,x,b_py,N)\n",
    "    toc = time.perf_counter()\n",
    "    lista_np.append(toc-tic)\n",
    "\n",
    "    tic = time.perf_counter()\n",
    "    lib.matriz_vector(A,x,b_c,N)\n",
    "    toc = time.perf_counter()\n",
    "    lista_np.append(toc-tic)\n",
    "lista_N_lib.append\n",
    "\n",
    "\n",
    "lib.matriz_vector(A,x, b_c, N)\n",
    "print(b_c)\n",
    "\n",
    "plt.plot(lista_np, 'r')\n",
    "\n",
    "\n",
    "plt.show\n"
   ]
  },
  {
   "cell_type": "code",
   "execution_count": null,
   "metadata": {},
   "outputs": [],
   "source": []
  }
 ],
 "metadata": {
  "kernelspec": {
   "display_name": "Python 3",
   "language": "python",
   "name": "python3"
  },
  "language_info": {
   "codemirror_mode": {
    "name": "ipython",
    "version": 3
   },
   "file_extension": ".py",
   "mimetype": "text/x-python",
   "name": "python",
   "nbconvert_exporter": "python",
   "pygments_lexer": "ipython3",
   "version": "3.10.12"
  }
 },
 "nbformat": 4,
 "nbformat_minor": 2
}
